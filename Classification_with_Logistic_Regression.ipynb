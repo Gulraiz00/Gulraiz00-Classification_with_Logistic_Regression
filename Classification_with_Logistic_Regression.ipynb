{
 "cells": [
  {
   "cell_type": "code",
   "execution_count": 1,
   "id": "404211d3",
   "metadata": {
    "_cell_guid": "b1076dfc-b9ad-4769-8c92-a6c4dae69d19",
    "_uuid": "8f2839f25d086af736a60e9eeb907d3b93b6e0e5",
    "execution": {
     "iopub.execute_input": "2021-10-18T07:27:11.304023Z",
     "iopub.status.busy": "2021-10-18T07:27:11.303330Z",
     "iopub.status.idle": "2021-10-18T07:27:11.314714Z",
     "shell.execute_reply": "2021-10-18T07:27:11.314172Z",
     "shell.execute_reply.started": "2021-10-18T07:25:47.023927Z"
    },
    "papermill": {
     "duration": 0.04252,
     "end_time": "2021-10-18T07:27:11.314898",
     "exception": false,
     "start_time": "2021-10-18T07:27:11.272378",
     "status": "completed"
    },
    "tags": []
   },
   "outputs": [
    {
     "name": "stdout",
     "output_type": "stream",
     "text": [
      "/kaggle/input/creditcardfraud/creditcard.csv\n"
     ]
    }
   ],
   "source": [
    "# This Python 3 environment comes with many helpful analytics libraries installed\n",
    "# It is defined by the kaggle/python Docker image: https://github.com/kaggle/docker-python\n",
    "# For example, here's several helpful packages to load\n",
    "\n",
    "import numpy as np # linear algebra\n",
    "import pandas as pd # data processing, CSV file I/O (e.g. pd.read_csv)\n",
    "\n",
    "# Input data files are available in the read-only \"../input/\" directory\n",
    "# For example, running this (by clicking run or pressing Shift+Enter) will list all files under the input directory\n",
    "\n",
    "import os\n",
    "for dirname, _, filenames in os.walk('/kaggle/input'):\n",
    "    for filename in filenames:\n",
    "        print(os.path.join(dirname, filename))\n",
    "\n",
    "# You can write up to 20GB to the current directory (/kaggle/working/) that gets preserved as output when you create a version using \"Save & Run All\" \n",
    "# You can also write temporary files to /kaggle/temp/, but they won't be saved outside of the current session"
   ]
  },
  {
   "cell_type": "markdown",
   "id": "fa8382d4",
   "metadata": {
    "papermill": {
     "duration": 0.016956,
     "end_time": "2021-10-18T07:27:11.349178",
     "exception": false,
     "start_time": "2021-10-18T07:27:11.332222",
     "status": "completed"
    },
    "tags": []
   },
   "source": [
    "## **The Dataset**\n",
    "The dataset contains transactions made by credit cards in September 2013 by European cardholders.\n",
    "This dataset presents transactions that occurred in two days, where we have 492 frauds out of\n",
    "284,807 transactions. The dataset is highly unbalanced, the positive class (frauds) account for\n",
    "0.172% of all transactions.\n",
    "It contains only numerical input variables which are the result of a PCA transformation. Unfortu-\n",
    "nately, due to confidentiality issues, we cannot provide the original features and more background\n",
    "information about the data. Features V1, V2, ... V28 are the principal components obtained with\n",
    "PCA, the only features which have not been transformed with PCA are ‘Time’ and ‘Amount’. [You\n",
    "will learn about PCA in a later Lesson.] Feature ‘Time’ contains the seconds elapsed between\n",
    "each transaction and the first transaction in the dataset. The feature ‘Amount’ is the transac-\n",
    "tion Amount. Feature ‘Class’ is the response variable and it takes value 1 in case of fraud and 0\n",
    "otherwise."
   ]
  },
  {
   "cell_type": "code",
   "execution_count": 2,
   "id": "c435622d",
   "metadata": {
    "execution": {
     "iopub.execute_input": "2021-10-18T07:27:11.388138Z",
     "iopub.status.busy": "2021-10-18T07:27:11.387240Z",
     "iopub.status.idle": "2021-10-18T07:27:12.539683Z",
     "shell.execute_reply": "2021-10-18T07:27:12.538919Z",
     "shell.execute_reply.started": "2021-10-18T07:25:47.059714Z"
    },
    "papermill": {
     "duration": 1.171848,
     "end_time": "2021-10-18T07:27:12.539863",
     "exception": false,
     "start_time": "2021-10-18T07:27:11.368015",
     "status": "completed"
    },
    "tags": []
   },
   "outputs": [],
   "source": [
    "import seaborn as sns\n",
    "from sklearn.model_selection import train_test_split\n",
    "from sklearn.linear_model import LogisticRegression\n",
    "from sklearn.metrics import confusion_matrix, roc_curve,precision_recall_curve, auc\n",
    "import matplotlib.pyplot as plt\n",
    "%matplotlib inline"
   ]
  },
  {
   "cell_type": "markdown",
   "id": "9dd25d08",
   "metadata": {
    "papermill": {
     "duration": 0.016585,
     "end_time": "2021-10-18T07:27:12.572828",
     "exception": false,
     "start_time": "2021-10-18T07:27:12.556243",
     "status": "completed"
    },
    "tags": []
   },
   "source": [
    "## **Question 1: /5 pts**\n",
    "<br>\n",
    "Read in the creditcard.csv dataset and display the first 5 rows"
   ]
  },
  {
   "cell_type": "code",
   "execution_count": 3,
   "id": "051553b1",
   "metadata": {
    "execution": {
     "iopub.execute_input": "2021-10-18T07:27:12.610609Z",
     "iopub.status.busy": "2021-10-18T07:27:12.609965Z",
     "iopub.status.idle": "2021-10-18T07:27:16.054446Z",
     "shell.execute_reply": "2021-10-18T07:27:16.053782Z",
     "shell.execute_reply.started": "2021-10-18T07:25:48.390876Z"
    },
    "papermill": {
     "duration": 3.46558,
     "end_time": "2021-10-18T07:27:16.054598",
     "exception": false,
     "start_time": "2021-10-18T07:27:12.589018",
     "status": "completed"
    },
    "tags": []
   },
   "outputs": [
    {
     "data": {
      "text/html": [
       "<div>\n",
       "<style scoped>\n",
       "    .dataframe tbody tr th:only-of-type {\n",
       "        vertical-align: middle;\n",
       "    }\n",
       "\n",
       "    .dataframe tbody tr th {\n",
       "        vertical-align: top;\n",
       "    }\n",
       "\n",
       "    .dataframe thead th {\n",
       "        text-align: right;\n",
       "    }\n",
       "</style>\n",
       "<table border=\"1\" class=\"dataframe\">\n",
       "  <thead>\n",
       "    <tr style=\"text-align: right;\">\n",
       "      <th></th>\n",
       "      <th>Time</th>\n",
       "      <th>V1</th>\n",
       "      <th>V2</th>\n",
       "      <th>V3</th>\n",
       "      <th>V4</th>\n",
       "      <th>V5</th>\n",
       "      <th>V6</th>\n",
       "      <th>V7</th>\n",
       "      <th>V8</th>\n",
       "      <th>V9</th>\n",
       "      <th>...</th>\n",
       "      <th>V21</th>\n",
       "      <th>V22</th>\n",
       "      <th>V23</th>\n",
       "      <th>V24</th>\n",
       "      <th>V25</th>\n",
       "      <th>V26</th>\n",
       "      <th>V27</th>\n",
       "      <th>V28</th>\n",
       "      <th>Amount</th>\n",
       "      <th>Class</th>\n",
       "    </tr>\n",
       "  </thead>\n",
       "  <tbody>\n",
       "    <tr>\n",
       "      <th>0</th>\n",
       "      <td>0.0</td>\n",
       "      <td>-1.359807</td>\n",
       "      <td>-0.072781</td>\n",
       "      <td>2.536347</td>\n",
       "      <td>1.378155</td>\n",
       "      <td>-0.338321</td>\n",
       "      <td>0.462388</td>\n",
       "      <td>0.239599</td>\n",
       "      <td>0.098698</td>\n",
       "      <td>0.363787</td>\n",
       "      <td>...</td>\n",
       "      <td>-0.018307</td>\n",
       "      <td>0.277838</td>\n",
       "      <td>-0.110474</td>\n",
       "      <td>0.066928</td>\n",
       "      <td>0.128539</td>\n",
       "      <td>-0.189115</td>\n",
       "      <td>0.133558</td>\n",
       "      <td>-0.021053</td>\n",
       "      <td>149.62</td>\n",
       "      <td>0</td>\n",
       "    </tr>\n",
       "    <tr>\n",
       "      <th>1</th>\n",
       "      <td>0.0</td>\n",
       "      <td>1.191857</td>\n",
       "      <td>0.266151</td>\n",
       "      <td>0.166480</td>\n",
       "      <td>0.448154</td>\n",
       "      <td>0.060018</td>\n",
       "      <td>-0.082361</td>\n",
       "      <td>-0.078803</td>\n",
       "      <td>0.085102</td>\n",
       "      <td>-0.255425</td>\n",
       "      <td>...</td>\n",
       "      <td>-0.225775</td>\n",
       "      <td>-0.638672</td>\n",
       "      <td>0.101288</td>\n",
       "      <td>-0.339846</td>\n",
       "      <td>0.167170</td>\n",
       "      <td>0.125895</td>\n",
       "      <td>-0.008983</td>\n",
       "      <td>0.014724</td>\n",
       "      <td>2.69</td>\n",
       "      <td>0</td>\n",
       "    </tr>\n",
       "    <tr>\n",
       "      <th>2</th>\n",
       "      <td>1.0</td>\n",
       "      <td>-1.358354</td>\n",
       "      <td>-1.340163</td>\n",
       "      <td>1.773209</td>\n",
       "      <td>0.379780</td>\n",
       "      <td>-0.503198</td>\n",
       "      <td>1.800499</td>\n",
       "      <td>0.791461</td>\n",
       "      <td>0.247676</td>\n",
       "      <td>-1.514654</td>\n",
       "      <td>...</td>\n",
       "      <td>0.247998</td>\n",
       "      <td>0.771679</td>\n",
       "      <td>0.909412</td>\n",
       "      <td>-0.689281</td>\n",
       "      <td>-0.327642</td>\n",
       "      <td>-0.139097</td>\n",
       "      <td>-0.055353</td>\n",
       "      <td>-0.059752</td>\n",
       "      <td>378.66</td>\n",
       "      <td>0</td>\n",
       "    </tr>\n",
       "    <tr>\n",
       "      <th>3</th>\n",
       "      <td>1.0</td>\n",
       "      <td>-0.966272</td>\n",
       "      <td>-0.185226</td>\n",
       "      <td>1.792993</td>\n",
       "      <td>-0.863291</td>\n",
       "      <td>-0.010309</td>\n",
       "      <td>1.247203</td>\n",
       "      <td>0.237609</td>\n",
       "      <td>0.377436</td>\n",
       "      <td>-1.387024</td>\n",
       "      <td>...</td>\n",
       "      <td>-0.108300</td>\n",
       "      <td>0.005274</td>\n",
       "      <td>-0.190321</td>\n",
       "      <td>-1.175575</td>\n",
       "      <td>0.647376</td>\n",
       "      <td>-0.221929</td>\n",
       "      <td>0.062723</td>\n",
       "      <td>0.061458</td>\n",
       "      <td>123.50</td>\n",
       "      <td>0</td>\n",
       "    </tr>\n",
       "    <tr>\n",
       "      <th>4</th>\n",
       "      <td>2.0</td>\n",
       "      <td>-1.158233</td>\n",
       "      <td>0.877737</td>\n",
       "      <td>1.548718</td>\n",
       "      <td>0.403034</td>\n",
       "      <td>-0.407193</td>\n",
       "      <td>0.095921</td>\n",
       "      <td>0.592941</td>\n",
       "      <td>-0.270533</td>\n",
       "      <td>0.817739</td>\n",
       "      <td>...</td>\n",
       "      <td>-0.009431</td>\n",
       "      <td>0.798278</td>\n",
       "      <td>-0.137458</td>\n",
       "      <td>0.141267</td>\n",
       "      <td>-0.206010</td>\n",
       "      <td>0.502292</td>\n",
       "      <td>0.219422</td>\n",
       "      <td>0.215153</td>\n",
       "      <td>69.99</td>\n",
       "      <td>0</td>\n",
       "    </tr>\n",
       "  </tbody>\n",
       "</table>\n",
       "<p>5 rows × 31 columns</p>\n",
       "</div>"
      ],
      "text/plain": [
       "   Time        V1        V2        V3        V4        V5        V6        V7  \\\n",
       "0   0.0 -1.359807 -0.072781  2.536347  1.378155 -0.338321  0.462388  0.239599   \n",
       "1   0.0  1.191857  0.266151  0.166480  0.448154  0.060018 -0.082361 -0.078803   \n",
       "2   1.0 -1.358354 -1.340163  1.773209  0.379780 -0.503198  1.800499  0.791461   \n",
       "3   1.0 -0.966272 -0.185226  1.792993 -0.863291 -0.010309  1.247203  0.237609   \n",
       "4   2.0 -1.158233  0.877737  1.548718  0.403034 -0.407193  0.095921  0.592941   \n",
       "\n",
       "         V8        V9  ...       V21       V22       V23       V24       V25  \\\n",
       "0  0.098698  0.363787  ... -0.018307  0.277838 -0.110474  0.066928  0.128539   \n",
       "1  0.085102 -0.255425  ... -0.225775 -0.638672  0.101288 -0.339846  0.167170   \n",
       "2  0.247676 -1.514654  ...  0.247998  0.771679  0.909412 -0.689281 -0.327642   \n",
       "3  0.377436 -1.387024  ... -0.108300  0.005274 -0.190321 -1.175575  0.647376   \n",
       "4 -0.270533  0.817739  ... -0.009431  0.798278 -0.137458  0.141267 -0.206010   \n",
       "\n",
       "        V26       V27       V28  Amount  Class  \n",
       "0 -0.189115  0.133558 -0.021053  149.62      0  \n",
       "1  0.125895 -0.008983  0.014724    2.69      0  \n",
       "2 -0.139097 -0.055353 -0.059752  378.66      0  \n",
       "3 -0.221929  0.062723  0.061458  123.50      0  \n",
       "4  0.502292  0.219422  0.215153   69.99      0  \n",
       "\n",
       "[5 rows x 31 columns]"
      ]
     },
     "execution_count": 3,
     "metadata": {},
     "output_type": "execute_result"
    }
   ],
   "source": [
    "creditcard_data = pd.read_csv('../input/creditcardfraud/creditcard.csv')\n",
    "creditcard_data.head()"
   ]
  },
  {
   "cell_type": "markdown",
   "id": "4b8f2939",
   "metadata": {
    "papermill": {
     "duration": 0.016945,
     "end_time": "2021-10-18T07:27:16.089157",
     "exception": false,
     "start_time": "2021-10-18T07:27:16.072212",
     "status": "completed"
    },
    "tags": []
   },
   "source": [
    "## **Question 2: /5 pts**\n",
    "<br>\n",
    "Then split the data into train and test for the outcome/response and the predictor variables. Hold\n",
    "out 50% of observations as the test set. Pass random_state=0 to train_test_split to ensure you\n",
    "get the same train and tests sets as the solution."
   ]
  },
  {
   "cell_type": "code",
   "execution_count": 4,
   "id": "d11c299d",
   "metadata": {
    "execution": {
     "iopub.execute_input": "2021-10-18T07:27:16.165194Z",
     "iopub.status.busy": "2021-10-18T07:27:16.132301Z",
     "iopub.status.idle": "2021-10-18T07:27:16.277896Z",
     "shell.execute_reply": "2021-10-18T07:27:16.278431Z",
     "shell.execute_reply.started": "2021-10-18T07:25:52.679801Z"
    },
    "papermill": {
     "duration": 0.172016,
     "end_time": "2021-10-18T07:27:16.278615",
     "exception": false,
     "start_time": "2021-10-18T07:27:16.106599",
     "status": "completed"
    },
    "tags": []
   },
   "outputs": [],
   "source": [
    "# Question 2 code here.\n",
    "X = creditcard_data.drop('Class', axis = 'columns').values\n",
    "y = creditcard_data.Class.values\n",
    "Xtrain, Xtest, ytrain, ytest = train_test_split(X,y, test_size = 0.5,random_state=0)"
   ]
  },
  {
   "cell_type": "markdown",
   "id": "49196a7d",
   "metadata": {
    "papermill": {
     "duration": 0.01709,
     "end_time": "2021-10-18T07:27:16.313161",
     "exception": false,
     "start_time": "2021-10-18T07:27:16.296071",
     "status": "completed"
    },
    "tags": []
   },
   "source": [
    "## **Question 3: /5 pts**\n",
    "<br>\n",
    "Read the documentation for sklearn’s LogisticRegression. In no more than 2 sentences per bullet\n",
    "point, answer the following in your own words.\n",
    "<br>\n",
    "• Does LogisticRegression use a penalty by default? If yes, what penalty?\n",
    "<br>\n",
    "\n",
    "**YOUR ANSWER HERE**: LogisticRegression uses L2 penalty by default.\n",
    "<br>\n",
    "• If we apply a penalty during learning, what difference do you expect to see in the resulting\n",
    "coeﬀicients, relative to not applying a penalty during learning?\n",
    "<br>\n",
    "**YOUR ANSWER HERE:** Coeﬀicients in the regularization case tend to be smaller in value\n",
    "than those without regularization.\n",
    "<br>\n",
    "• If using the default settings of LogisticRegression in sklearn, should you include a column\n",
    "of 1s in your feature/design matrix? Briefly explain why or why not.\n",
    "<br>\n",
    "**YOUR ANSWER HERE:** No, because the defualt settings sets fit_intercept=True and this\n",
    "adds self.coef_ to the decision function."
   ]
  },
  {
   "cell_type": "markdown",
   "id": "91a85554",
   "metadata": {
    "papermill": {
     "duration": 0.016732,
     "end_time": "2021-10-18T07:27:16.347281",
     "exception": false,
     "start_time": "2021-10-18T07:27:16.330549",
     "status": "completed"
    },
    "tags": []
   },
   "source": [
    "## **Question 4: /15 pts**\n",
    "Create a instance of sklearn’s LogisticRegression object for unpenalized logistic regression. Note:\n",
    "If you get a warning about convergence of coef_, try increasing the max_iter parameter. I used\n",
    "max_iter=10000 which seems to supress the warning.\n",
    "<br>\n",
    "Using this object, **run a logisitic regression analysis** of Class (y-variable) against Amount\n",
    "(x-variable) using your training data.\n",
    "<br>\n",
    "Then **make a plot with three main components based on the analysis:** 1. Scatter-plot of\n",
    "Amount and Outcome on your test data 2. A curve showing the prediction (0 or 1, using predict - this curve will jump between 0 and 1) as a function of Amount 3. A curve showing the predicted\n",
    "probability of a positive outcome (using predict_proba) as a function of Amount. Note that\n",
    "predict_proba will return both p(Outcome=0) and p(Outcome=1) in an array."
   ]
  },
  {
   "cell_type": "code",
   "execution_count": 5,
   "id": "7afe4d83",
   "metadata": {
    "execution": {
     "iopub.execute_input": "2021-10-18T07:27:16.384496Z",
     "iopub.status.busy": "2021-10-18T07:27:16.383919Z",
     "iopub.status.idle": "2021-10-18T07:27:18.190551Z",
     "shell.execute_reply": "2021-10-18T07:27:18.191105Z",
     "shell.execute_reply.started": "2021-10-18T07:25:52.854669Z"
    },
    "papermill": {
     "duration": 1.826932,
     "end_time": "2021-10-18T07:27:18.191277",
     "exception": false,
     "start_time": "2021-10-18T07:27:16.364345",
     "status": "completed"
    },
    "tags": []
   },
   "outputs": [
    {
     "data": {
      "image/png": "[encoded data removed]",
      "text/plain": [
       "<Figure size 600x400 with 1 Axes>"
      ]
     },
     "metadata": {
      "needs_background": "light"
     },
     "output_type": "display_data"
    }
   ],
   "source": [
    "# Question 4 code here\n",
    "class_amount_LR = LogisticRegression(penalty = 'none', max_iter=10000)\n",
    "amount_train = Xtrain[:,-1].reshape(-1, 1) #Amount is the last feature of the␣data before the Class and we dropped Class to get Xtrain\n",
    "class_amount_lr = class_amount_LR.fit(amount_train, ytrain)\n",
    "#plot\n",
    "amount_test = Xtest[:,-1].reshape(-1,1)\n",
    "#True Test Data\n",
    "fig, ax = plt.subplots(dpi = 100)\n",
    "ax.scatter(x= amount_test, y= ytest, color=\"green\")\n",
    "ax.set_title('True Test Data')\n",
    "ax.set_ylabel('Classes')\n",
    "ax.set_xlabel('Amount')\n",
    "ax.set_yticks([0,1])\n",
    "#Prediction\n",
    "xp = np.reshape(np.linspace(0,max(amount_test),50),(-1,1))\n",
    "yp = class_amount_lr.predict(xp)\n",
    "yp_prop = class_amount_lr.predict_proba(xp)\n",
    "ax.plot(xp[:,0],yp)\n",
    "ax.plot(xp[:,0],yp_prop[:,1])\n",
    "ax.legend([\"Predicted class\", \"Probability\", \"True test data\"],bbox_to_anchor=(1.04,0.5), loc=\"center left\")\n",
    "plt.show()"
   ]
  },
  {
   "cell_type": "markdown",
   "id": "24189cf0",
   "metadata": {
    "papermill": {
     "duration": 0.018665,
     "end_time": "2021-10-18T07:27:18.229259",
     "exception": false,
     "start_time": "2021-10-18T07:27:18.210594",
     "status": "completed"
    },
    "tags": []
   },
   "source": [
    "\n",
    "## **Question 5: 15 pts**\n",
    "Compute the label-based criteria we discussed in the Lesson for your amount-only classifier using\n",
    "the test data. Use a threshold of 0.5. Answer the questions in this text box below.\n",
    "<br>\n",
    "• How many of the test instances are labeled positive by your classifier?\n",
    "<br>\n",
    "**YOUR ANSWER HERE:** Only one.\n",
    "<br>\n",
    "• Choose one of the positively-labeled test instances, and explain why the classifier labeled it\n",
    "positive.\n",
    "<br>\n",
    "**YOUR ANSWER HERE:** the one positively-labeled test instance coresponds to amount\n",
    "25691.16. As most of the data are legit instances and most of them are well below Amount=10000,\n",
    "the classifier associated high fraud probability with higher amount used. This can be seen by\n",
    "looking at the Amount’s coeﬀicient in the fit model.\n",
    "\n",
    "<br>\n",
    "• Is this classifier useful for finding fraudulent transactions? Explain in one or two sentences.\n",
    "<br>\n",
    "\n",
    "**YOUR ANSWER HERE:** No, it only labeld one instance as positive and it is wrong. As the\n",
    "fraud instances are rare in the data, we need more features to better predict them."
   ]
  },
  {
   "cell_type": "code",
   "execution_count": 6,
   "id": "fafb71c4",
   "metadata": {
    "execution": {
     "iopub.execute_input": "2021-10-18T07:27:18.278638Z",
     "iopub.status.busy": "2021-10-18T07:27:18.277950Z",
     "iopub.status.idle": "2021-10-18T07:27:20.329335Z",
     "shell.execute_reply": "2021-10-18T07:27:20.328706Z",
     "shell.execute_reply.started": "2021-10-18T07:25:54.757457Z"
    },
    "papermill": {
     "duration": 2.081194,
     "end_time": "2021-10-18T07:27:20.329477",
     "exception": false,
     "start_time": "2021-10-18T07:27:18.248283",
     "status": "completed"
    },
    "tags": []
   },
   "outputs": [
    {
     "name": "stdout",
     "output_type": "stream",
     "text": [
      "tp: 0 tn: 142160 fp: 1 fn: 243\n",
      "Accuracy: 0.998 Recall: 0.0 Precision: 0.0 Sensitivity: 0.0 Specificity: 1.0\n",
      "-------\n",
      "Amount corresponds to the unique positive labaled instance is25691.16\n",
      "Coefficient of Amount is 0.00032135622555176316\n"
     ]
    }
   ],
   "source": [
    "# Calculate performance measures from scratch\n",
    "# TP: true postives\n",
    "# TN: true negatives\n",
    "# FP: False positives\n",
    "# FN: False negatives\n",
    "def compute_performance(yhat, y, classes):\n",
    "    \n",
    "    # First, get tp, tn, fp, fn\n",
    "    tp = sum(np.logical_and(yhat == classes[1], y == classes[1]))\n",
    "    tn = sum(np.logical_and(yhat == classes[0], y == classes[0]))\n",
    "    fp = sum(np.logical_and(yhat == classes[1], y == classes[0]))\n",
    "    fn = sum(np.logical_and(yhat == classes[0], y == classes[1]))\n",
    "    print(f\"tp: {tp} tn: {tn} fp: {fp} fn: {fn}\")\n",
    "    # Accuracy\n",
    "    acc = (tp + tn) / (tp + tn + fp + fn)\n",
    "    # Precision\n",
    "    # \"Of the ones I labeled +, how many are actually +?\"\n",
    "    precision = tp / (tp + fp)\n",
    "    # Recall\n",
    "    # \"Of all the + in the data, how many do I correctly label?\"\n",
    "    recall = tp / (tp + fn)\n",
    "    # Sensitivity\n",
    "    # \"Of all the + in the data, how many do I correctly label?\"\n",
    "    sensitivity = recall\n",
    "    # Specificity\n",
    "    # \"Of all the - in the data, how many do I correctly label?\"\n",
    "    specificity = tn / (fp + tn)\n",
    "    # Print results\n",
    "    print(\"Accuracy:\",round(acc,3),\"Recall:\",round(recall,3),\"Precision:\",round(precision,3),\"Sensitivity:\",round(sensitivity,3),\"Specificity:\",round(specificity,3))\n",
    "    ## Put code here to compute criteria:\n",
    "y_hat_amount = class_amount_lr.predict(amount_test)\n",
    "compute_performance(y_hat_amount, ytest, [0,1])\n",
    "## Put code here to compute whatever else you might need to answer the question.\n",
    "print('-------')\n",
    "print(f'Amount corresponds to the unique positive labaled instance is{amount_test[y_hat_amount == 1][0][0]}')\n",
    "print(f'Coefficient of Amount is {class_amount_lr.coef_[0,-1]}') #Amount's␣coefficient"
   ]
  },
  {
   "cell_type": "markdown",
   "id": "de209fb3",
   "metadata": {
    "papermill": {
     "duration": 0.028755,
     "end_time": "2021-10-18T07:27:20.378329",
     "exception": false,
     "start_time": "2021-10-18T07:27:20.349574",
     "status": "completed"
    },
    "tags": []
   },
   "source": [
    "## **Question 6: /10 pts**\n",
    "Now fit a logistic regression model to the training data and include all the variables in the data\n",
    "frame (except for Class) in the cell below. You will want to make a new object like you did for the\n",
    "simpler model. Answer the following question.\n",
    "<br>\n",
    "• According to this more complex model, are larger or smaller Amounts more strongly associ-\n",
    "ated with fraud, if all other variables are held equal?\n",
    "<br>\n",
    "**YOUR ANSWER HERE:** Amount has a negative coeffecient, so the fraud-Amount relation is\n",
    "inversely proportional. Thus, smaller Amounts are more strongly associated with fraud."
   ]
  },
  {
   "cell_type": "code",
   "execution_count": 7,
   "id": "9bf1af04",
   "metadata": {
    "execution": {
     "iopub.execute_input": "2021-10-18T07:27:20.423958Z",
     "iopub.status.busy": "2021-10-18T07:27:20.423245Z",
     "iopub.status.idle": "2021-10-18T07:27:27.321934Z",
     "shell.execute_reply": "2021-10-18T07:27:27.323152Z",
     "shell.execute_reply.started": "2021-10-18T07:25:56.864889Z"
    },
    "papermill": {
     "duration": 6.924899,
     "end_time": "2021-10-18T07:27:27.323465",
     "exception": false,
     "start_time": "2021-10-18T07:27:20.398566",
     "status": "completed"
    },
    "tags": []
   },
   "outputs": [
    {
     "name": "stdout",
     "output_type": "stream",
     "text": [
      "Coefficient of Amount is -0.006378670514832115\n"
     ]
    }
   ],
   "source": [
    "# Code for Question 6\n",
    "credit_LR = LogisticRegression(penalty = 'none', max_iter=10000)\n",
    "credit_lr = credit_LR.fit(Xtrain, ytrain) #Xtrain has all feature except for␣Class\n",
    "print(f'Coefficient of Amount is {credit_lr.coef_[0,-1]}') #Amount's coefficient"
   ]
  },
  {
   "cell_type": "code",
   "execution_count": 8,
   "id": "60c29b4b",
   "metadata": {
    "execution": {
     "iopub.execute_input": "2021-10-18T07:27:27.404095Z",
     "iopub.status.busy": "2021-10-18T07:27:27.397130Z",
     "iopub.status.idle": "2021-10-18T07:27:30.144448Z",
     "shell.execute_reply": "2021-10-18T07:27:30.145007Z",
     "shell.execute_reply.started": "2021-10-18T07:26:04.119520Z"
    },
    "papermill": {
     "duration": 2.786976,
     "end_time": "2021-10-18T07:27:30.145188",
     "exception": false,
     "start_time": "2021-10-18T07:27:27.358212",
     "status": "completed"
    },
    "tags": []
   },
   "outputs": [
    {
     "data": {
      "image/png": "[encoded data removed]",
      "text/plain": [
       "<Figure size 600x400 with 1 Axes>"
      ]
     },
     "metadata": {
      "needs_background": "light"
     },
     "output_type": "display_data"
    }
   ],
   "source": [
    "#plot Class against Amount to see if it's getting any better\n",
    "#True Test Data\n",
    "amount_test = Xtest[:,-1].reshape(-1,1)\n",
    "fig, ax = plt.subplots(dpi = 100)\n",
    "y_hat_all = credit_lr.predict(Xtest)\n",
    "sct = ax.scatter(x= amount_test, y=y_hat_all, c= ytest, alpha=0.5, label=ytest)\n",
    "ax.set_title('Test Data')\n",
    "ax.set_ylabel('Predicted Classes')\n",
    "ax.set_xlabel('Amount')\n",
    "ax.set_yticks([0,1])\n",
    "ax.legend(handles=sct.legend_elements()[0], labels=[\"True negative\", \"True␣positive\"],\n",
    "loc=\"center left\", bbox_to_anchor=(1.04,0.5))\n",
    "plt.show()\n",
    "# It is better indeed"
   ]
  },
  {
   "cell_type": "markdown",
   "id": "710d4b0a",
   "metadata": {
    "papermill": {
     "duration": 0.02068,
     "end_time": "2021-10-18T07:27:30.186858",
     "exception": false,
     "start_time": "2021-10-18T07:27:30.166178",
     "status": "completed"
    },
    "tags": []
   },
   "source": [
    "## **Question 7: /15 pts**\n",
    "In the cell below, Compute the label-based criteria we discussed in the Lesson for new classifier\n",
    "using the test data. (You don’t have to copy the function down into this cell; just call it again\n",
    "here.) Use a threshold of 0.5. Answer the questions in this text box below.\n",
    "<br>\n",
    "• How many of the test instances are labeled positive by your classifier?\n",
    "<br>\n",
    "**YOUR ANSWER:** 146+34 = 180 instances\n",
    "<br>\n",
    "• Is this classifier better or worse than the amount-only classifier for finding fraudulent\n",
    "transactions? Explain in one or two sentences.\n",
    "<br>\n",
    "**YOUR ANSWER:** It is better as it predicts 60% of fraud instances with precision 80%, as\n",
    "opposed to 0% fraud prediction for the amount-only classifier."
   ]
  },
  {
   "cell_type": "code",
   "execution_count": 9,
   "id": "36bc5855",
   "metadata": {
    "execution": {
     "iopub.execute_input": "2021-10-18T07:27:30.232372Z",
     "iopub.status.busy": "2021-10-18T07:27:30.231280Z",
     "iopub.status.idle": "2021-10-18T07:27:32.320362Z",
     "shell.execute_reply": "2021-10-18T07:27:32.320871Z",
     "shell.execute_reply.started": "2021-10-18T07:26:06.976659Z"
    },
    "papermill": {
     "duration": 2.113567,
     "end_time": "2021-10-18T07:27:32.321054",
     "exception": false,
     "start_time": "2021-10-18T07:27:30.207487",
     "status": "completed"
    },
    "tags": []
   },
   "outputs": [
    {
     "name": "stdout",
     "output_type": "stream",
     "text": [
      "tp: 154 tn: 142132 fp: 29 fn: 89\n",
      "Accuracy: 0.999 Recall: 0.634 Precision: 0.842 Sensitivity: 0.634 Specificity: 1.0\n"
     ]
    }
   ],
   "source": [
    "# Code for Question 7\n",
    "compute_performance(y_hat_all, ytest, [0,1])"
   ]
  },
  {
   "cell_type": "markdown",
   "id": "fcd039be",
   "metadata": {
    "papermill": {
     "duration": 0.021234,
     "end_time": "2021-10-18T07:27:32.363120",
     "exception": false,
     "start_time": "2021-10-18T07:27:32.341886",
     "status": "completed"
    },
    "tags": []
   },
   "source": [
    "## **Question 8: /15 pts**\n",
    "Plot ROC curves for both of your classifiers using the cells below, then answer the following ques-\n",
    "tions, computing whatever quantities you need to answer them.\n",
    "<br>\n",
    "• Which classifier has a higher estimated probability of correctly distinguishing between a\n",
    "positive and a negative instance? How do you know?\n",
    "<br>\n",
    "**YOUR ANSWER:** All-variables classifier because the area under the ROC curve correspons to\n",
    "the ability of the classifier to correctly distinguishing between a positive and a negative instance.\n",
    "<br>\n",
    "• How could you explain a result where a logistic regression classifier produces an AUROC that\n",
    "is “worse than random”, i.e. less than 0.5, even on its training set?\n",
    "<br>\n",
    "**YOUR ANSWER:** This means there is a mistake in the implementation of the classifier, e.g.,\n",
    "incorrectly labeled positive class."
   ]
  },
  {
   "cell_type": "code",
   "execution_count": 10,
   "id": "47ef1e7e",
   "metadata": {
    "execution": {
     "iopub.execute_input": "2021-10-18T07:27:32.413689Z",
     "iopub.status.busy": "2021-10-18T07:27:32.412717Z",
     "iopub.status.idle": "2021-10-18T07:27:34.189866Z",
     "shell.execute_reply": "2021-10-18T07:27:34.189387Z",
     "shell.execute_reply.started": "2021-10-18T07:26:09.115063Z"
    },
    "papermill": {
     "duration": 1.805069,
     "end_time": "2021-10-18T07:27:34.190021",
     "exception": false,
     "start_time": "2021-10-18T07:27:32.384952",
     "status": "completed"
    },
    "tags": []
   },
   "outputs": [
    {
     "data": {
      "image/png": "[encoded data removed]",
      "text/plain": [
       "<Figure size 432x288 with 1 Axes>"
      ]
     },
     "metadata": {
      "needs_background": "light"
     },
     "output_type": "display_data"
    }
   ],
   "source": [
    "# ROC curve for Amount-only classifier\n",
    "positive_prop_amount = class_amount_lr.predict_proba(amount_test)[:,1]\n",
    "fpr1, tpr1, _ = roc_curve(ytest, positive_prop_amount)\n",
    "ax = sns.lineplot(x=fpr1, y=tpr1)\n",
    "ax.set_title('ROC curve for Amount-only classifier')\n",
    "ax.set_xlabel('False Positive Rate (TPR)')\n",
    "ax.set_ylabel('True Positive Rate (TPR)')\n",
    "plt.show()"
   ]
  },
  {
   "cell_type": "code",
   "execution_count": 11,
   "id": "34000739",
   "metadata": {
    "execution": {
     "iopub.execute_input": "2021-10-18T07:27:34.236004Z",
     "iopub.status.busy": "2021-10-18T07:27:34.235345Z",
     "iopub.status.idle": "2021-10-18T07:27:37.495594Z",
     "shell.execute_reply": "2021-10-18T07:27:37.496289Z",
     "shell.execute_reply.started": "2021-10-18T07:26:10.923756Z"
    },
    "papermill": {
     "duration": 3.28501,
     "end_time": "2021-10-18T07:27:37.496460",
     "exception": false,
     "start_time": "2021-10-18T07:27:34.211450",
     "status": "completed"
    },
    "tags": []
   },
   "outputs": [
    {
     "data": {
      "image/png": "[encoded data removed]",
      "text/plain": [
       "<Figure size 432x288 with 1 Axes>"
      ]
     },
     "metadata": {
      "needs_background": "light"
     },
     "output_type": "display_data"
    }
   ],
   "source": [
    " # ROC for all-variable classifier\n",
    "positive_prop_all = credit_lr.predict_proba(Xtest)[:,1]\n",
    "fpr2, tpr2, _ = roc_curve(ytest, positive_prop_all)\n",
    "ax = sns.lineplot(x=fpr2, y=tpr2)\n",
    "ax.set_title('ROC curve for All-variables classifier')\n",
    "ax.set_xlabel('False Positive Rate (TPR)')\n",
    "ax.set_ylabel('True Positive Rate (TPR)')\n",
    "plt.show()"
   ]
  },
  {
   "cell_type": "markdown",
   "id": "be3d44ef",
   "metadata": {
    "papermill": {
     "duration": 0.02314,
     "end_time": "2021-10-18T07:27:37.542089",
     "exception": false,
     "start_time": "2021-10-18T07:27:37.518949",
     "status": "completed"
    },
    "tags": []
   },
   "source": [
    "## **Question 9: /15 pts**\n",
    "Plot precision-recall curves for both of your classifiers using the cell below. Be sure to label your axes.\n",
    "<br>\n",
    "• Which classifier is preferable if we want to recover at least 60% of fraudulent transactions?\n",
    "<br>\n",
    "**YOUR ANSWER:** All-variables classifier."
   ]
  },
  {
   "cell_type": "code",
   "execution_count": 12,
   "id": "fb62859b",
   "metadata": {
    "execution": {
     "iopub.execute_input": "2021-10-18T07:27:37.589924Z",
     "iopub.status.busy": "2021-10-18T07:27:37.589310Z",
     "iopub.status.idle": "2021-10-18T07:27:41.530921Z",
     "shell.execute_reply": "2021-10-18T07:27:41.531583Z",
     "shell.execute_reply.started": "2021-10-18T07:26:14.273410Z"
    },
    "papermill": {
     "duration": 3.967192,
     "end_time": "2021-10-18T07:27:41.531771",
     "exception": false,
     "start_time": "2021-10-18T07:27:37.564579",
     "status": "completed"
    },
    "tags": []
   },
   "outputs": [
    {
     "data": {
      "image/png": "[encoded data removed]",
      "text/plain": [
       "<Figure size 432x288 with 1 Axes>"
      ]
     },
     "metadata": {
      "needs_background": "light"
     },
     "output_type": "display_data"
    }
   ],
   "source": [
    "# PRC for Amount-only classifier\n",
    "precision_amount, recall_amount, _ = precision_recall_curve(ytest,positive_prop_amount)\n",
    "ax = sns.lineplot(x=recall_amount, y=precision_amount)\n",
    "ax.set_title('Precision-Recall Curve for Amount-only classifier')\n",
    "ax.set_xlabel('Recall')\n",
    "ax.set_ylabel('Precision')\n",
    "plt.show()"
   ]
  },
  {
   "cell_type": "code",
   "execution_count": 13,
   "id": "7ee840d7",
   "metadata": {
    "execution": {
     "iopub.execute_input": "2021-10-18T07:27:41.582566Z",
     "iopub.status.busy": "2021-10-18T07:27:41.581910Z",
     "iopub.status.idle": "2021-10-18T07:27:45.514056Z",
     "shell.execute_reply": "2021-10-18T07:27:45.513229Z",
     "shell.execute_reply.started": "2021-10-18T07:26:18.264596Z"
    },
    "papermill": {
     "duration": 3.958599,
     "end_time": "2021-10-18T07:27:45.514229",
     "exception": false,
     "start_time": "2021-10-18T07:27:41.555630",
     "status": "completed"
    },
    "tags": []
   },
   "outputs": [
    {
     "data": {
      "image/png": "[encoded data removed]",
      "text/plain": [
       "<Figure size 432x288 with 1 Axes>"
      ]
     },
     "metadata": {
      "needs_background": "light"
     },
     "output_type": "display_data"
    }
   ],
   "source": [
    "# PRC for all-variable classifier\n",
    "precision, recall, _ = precision_recall_curve(ytest, positive_prop_all)\n",
    "ax = sns.lineplot(x=recall, y=precision)\n",
    "ax.set_title('Precision-Recall Curve for All-variables classifier')\n",
    "ax.set_xlabel('Recall')\n",
    "ax.set_ylabel('Precision')\n",
    "plt.show()"
   ]
  }
 ],
 "metadata": {
  "kernelspec": {
   "display_name": "Python 3",
   "language": "python",
   "name": "python3"
  },
  "language_info": {
   "codemirror_mode": {
    "name": "ipython",
    "version": 3
   },
   "file_extension": ".py",
   "mimetype": "text/x-python",
   "name": "python",
   "nbconvert_exporter": "python",
   "pygments_lexer": "ipython3",
   "version": "3.7.10"
  },
  "papermill": {
   "default_parameters": {},
   "duration": 43.401563,
   "end_time": "2021-10-18T07:27:46.149220",
   "environment_variables": {},
   "exception": null,
   "input_path": "__notebook__.ipynb",
   "output_path": "__notebook__.ipynb",
   "parameters": {},
   "start_time": "2021-10-18T07:27:02.747657",
   "version": "2.3.3"
  }
 },
 "nbformat": 4,
 "nbformat_minor": 5
}
